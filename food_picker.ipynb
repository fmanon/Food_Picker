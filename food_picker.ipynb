{
 "cells": [
  {
   "cell_type": "markdown",
   "metadata": {},
   "source": [
    "# Food Picker\n",
    "---"
   ]
  },
  {
   "cell_type": "markdown",
   "metadata": {},
   "source": [
    "*Medium post can be found [here](https://medium.com/analytics-vidhya/picking-your-next-meal-like-a-data-scientist-3b1933c9b95a)*.\n",
    "\n",
    "The goal of this project was to aliviate the indecisiveness that plagues my friend, [Peter Garcia](https://www.linkedin.com/in/peter-garcia/), and I when it comes to picking what to eat.  We will attempt to remove bais from the process as well.  This notebook is meant to be short and sweet."
   ]
  },
  {
   "cell_type": "markdown",
   "metadata": {},
   "source": [
    "___\n",
    "## Table of Conents"
   ]
  },
  {
   "cell_type": "markdown",
   "metadata": {},
   "source": [
    "- [01. Importing Libraries](#01.-Importing-Libraries)\n",
    "- [02. Building Out the Picker](#02.-Building-Out-the-Picker)\n",
    "    - [A. The First Iteration](#A.-The-First-Iteration)\n",
    "    - [B. The Second Iteration](#B.-The-Second-Iteration)\n",
    "- [03. Thoughts and Conlcusion](#03.-Thoughts-and-Conclusion)"
   ]
  },
  {
   "cell_type": "markdown",
   "metadata": {},
   "source": [
    "---\n",
    "### 01. Importing Libraries"
   ]
  },
  {
   "cell_type": "markdown",
   "metadata": {},
   "source": [
    "For this current iteration of the food picker, we will only be using a single library: `numpy`."
   ]
  },
  {
   "cell_type": "code",
   "execution_count": 1,
   "metadata": {},
   "outputs": [],
   "source": [
    "import numpy as np"
   ]
  },
  {
   "cell_type": "markdown",
   "metadata": {},
   "source": [
    "---\n",
    "### 02. Building Out the Picker"
   ]
  },
  {
   "cell_type": "markdown",
   "metadata": {},
   "source": [
    "#### A. The First Iteration"
   ]
  },
  {
   "cell_type": "markdown",
   "metadata": {},
   "source": [
    "For this first, overly simple, iteration, we'll need to populate a list of foods to choose from."
   ]
  },
  {
   "cell_type": "code",
   "execution_count": 2,
   "metadata": {},
   "outputs": [],
   "source": [
    "food = ['pizza',\n",
    "        'chinese',\n",
    "        'mcdonalds',\n",
    "        'chicken place next to the arepa place',\n",
    "        'dos toros',\n",
    "        'chickfilla',\n",
    "        'mexique',\n",
    "        'smashburger',\n",
    "        'shake shack',\n",
    "        'shortys']"
   ]
  },
  {
   "cell_type": "markdown",
   "metadata": {},
   "source": [
    "Afterwards, we'll use the `numpy` library to select a random element from said list."
   ]
  },
  {
   "cell_type": "code",
   "execution_count": 3,
   "metadata": {},
   "outputs": [
    {
     "data": {
      "text/plain": [
       "'chicken place next to the arepa place'"
      ]
     },
     "execution_count": 3,
     "metadata": {},
     "output_type": "execute_result"
    }
   ],
   "source": [
    "np.random.choice(food)"
   ]
  },
  {
   "cell_type": "markdown",
   "metadata": {},
   "source": [
    "And we're done."
   ]
  },
  {
   "cell_type": "markdown",
   "metadata": {},
   "source": [
    "#### B. The Second Iteration"
   ]
  },
  {
   "cell_type": "markdown",
   "metadata": {},
   "source": [
    "Of course we're not going to keep things so simple.  In this next iteration, we are going to implement a \"first-to\" scenario.  For this process, we will randomly select places to eat and the first item that reaches a given count will be our destination."
   ]
  },
  {
   "cell_type": "code",
   "execution_count": 4,
   "metadata": {},
   "outputs": [],
   "source": [
    "# Instantiate function with an input for list and a default of 3 rounds\n",
    "def get_food(food_list, count = 3):\n",
    "    \n",
    "    # Instantiate dictionary to keep count for each choice\n",
    "    food_dict = {item:0 for item in food_list}\n",
    "    \n",
    "    # Randomly increase the count of an element in a list\n",
    "    while max(list(food_dict.values())) < count:\n",
    "        increment = np.random.choice(food_list)\n",
    "        food_dict[increment] += 1\n",
    "        \n",
    "    # Return the first to reach our count as our choice\n",
    "    return [place for place in food_list if food_dict[place] == count]"
   ]
  },
  {
   "cell_type": "markdown",
   "metadata": {},
   "source": [
    "And now, we will have the picker select what to eat from the `food` list we created earlier (first one to reach 25):"
   ]
  },
  {
   "cell_type": "code",
   "execution_count": 5,
   "metadata": {},
   "outputs": [
    {
     "data": {
      "text/plain": [
       "['shortys']"
      ]
     },
     "execution_count": 5,
     "metadata": {},
     "output_type": "execute_result"
    }
   ],
   "source": [
    "get_food(food, 25)"
   ]
  },
  {
   "cell_type": "markdown",
   "metadata": {},
   "source": [
    "___\n",
    "### 03. Thoughts and Conclusion"
   ]
  },
  {
   "cell_type": "markdown",
   "metadata": {},
   "source": [
    "While not bad for a first (or second) attempt, there is one big flaw in the food picker - user usablility.  The user has to provide a list places to choose from, which is very inconvenient and not user-friendly.  A solution to that would be to incorporate somthing along the lines of Google Maps.  That way, the picker can use the user's location to automatically populate a list of locations to randomly select from.   The addition of somthing along the lines of Google Maps also removes bias, as we can truely randomly select locations and not rely on the user for preferences.\n",
    "\n",
    "Another issue would be with the count.  If we were to have a list of 25 locations, and user inputs 3 as the goal to achieve, we could, theoretically, reach a conclusion before we've made it through the list.  We would have to account for the size of the list of the selections to choose from."
   ]
  }
 ],
 "metadata": {
  "kernelspec": {
   "display_name": "Python 3",
   "language": "python",
   "name": "python3"
  },
  "language_info": {
   "codemirror_mode": {
    "name": "ipython",
    "version": 3
   },
   "file_extension": ".py",
   "mimetype": "text/x-python",
   "name": "python",
   "nbconvert_exporter": "python",
   "pygments_lexer": "ipython3",
   "version": "3.7.3"
  }
 },
 "nbformat": 4,
 "nbformat_minor": 4
}
